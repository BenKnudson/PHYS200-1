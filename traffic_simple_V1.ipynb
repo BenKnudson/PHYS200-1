{
 "metadata": {
  "name": "traffic_simple_V1"
 },
 "nbformat": 3,
 "worksheets": [
  {
   "cells": [
    {
     "cell_type": "code",
     "collapsed": false,
     "input": [
      "n = 5 #number of cars",
      "l = 20 #length of road",
      "time = 20# number of time steps to be taken",
      "mv = 2 #Max velocity",
      "",
      "import random",
      "import numpy",
      "road = numpy.zeros((time+1,l+1), dtype=numpy.int)",
      "loc = numpy.zeros((time+1,n), dtype=numpy.int)",
      "vel = numpy.zeros((time+1,n), dtype=numpy.int)",
      "dis = numpy.zeros((time+1,n), dtype=numpy.int)",
      "",
      "loc[0,:] = random.sample(range(l), n)#set initial locations",
      "for i in range(n): #set initial velocities",
      "    vel[0,i] = random.randint(0, mv)",
      "    ",
      "road[0,loc] = vel #place initial velocities in initial conditions",
      "",
      "tr1 = range(time)",
      "tr = [a+1 for a in tr1]",
      "",
      "for t in tr:",
      "    ",
      "    for k in range(n):",
      "        same = [loc[t-1,k]]*n",
      "        dif = numpy.array([a-b for a,b in zip(same,loc[t-1,:])])",
      "        dis_standin = numpy.where(dif>0)",
      "        if len(dif[dis_standin]) > 0:",
      "            dis[t,k] = min(dif[dis_standin])",
      "        else:",
      "            dis[t,k] = sum([min(dif),l])",
      "        if dis[t,k] <= vel[t-1,k]:",
      "            vel[t,k] = dis[t,k]-1",
      "        if dis[t,k] > 2*vel[t-1,k]:",
      "            vel[t,k] = vel[t-1,k]+1",
      "        if dis[t,k] >= mv:",
      "            vel[t,k] = mv",
      "            ",
      "    ",
      "    loc[t,:] = [sum(pair) for pair in zip(loc[t-1,:],vel[t,:])]",
      "    for s in range(n):",
      "        if loc[t,s] > 20:",
      "            loc[t,s] = loc[t,s]-20",
      "    ",
      "    road[t,loc[t,:]]= vel[t,:]      ",
      "    ",
      "",
      "print loc,vel",
      "print road"
     ],
     "language": "python",
     "outputs": [
      {
       "output_type": "stream",
       "stream": "stdout",
       "text": [
        "[[ 2  9  1  8  7]",
        " [ 3  9  3  8  9]",
        " [ 5 10  5 10  9]",
        " [ 7 10  7 10 11]",
        " [ 9 12  9 12 11]",
        " [11 12 11 12 13]",
        " [13 13 13 13 13]",
        " [15 15 15 15 15]",
        " [17 17 17 17 17]",
        " [19 19 19 19 19]",
        " [ 1  1  1  1  1]",
        " [ 3  3  3  3  3]",
        " [ 5  5  5  5  5]",
        " [ 7  7  7  7  7]",
        " [ 9  9  9  9  9]",
        " [11 11 11 11 11]",
        " [13 13 13 13 13]",
        " [15 15 15 15 15]",
        " [17 17 17 17 17]",
        " [19 19 19 19 19]",
        " [ 1  1  1  1  1]] [[0 2 1 1 0]",
        " [1 0 2 0 2]",
        " [2 1 2 2 0]",
        " [2 0 2 0 2]",
        " [2 2 2 2 0]",
        " [2 0 2 0 2]",
        " [2 1 2 1 0]",
        " [2 2 2 2 2]",
        " [2 2 2 2 2]",
        " [2 2 2 2 2]",
        " [2 2 2 2 2]",
        " [2 2 2 2 2]",
        " [2 2 2 2 2]",
        " [2 2 2 2 2]",
        " [2 2 2 2 2]",
        " [2 2 2 2 2]",
        " [2 2 2 2 2]",
        " [2 2 2 2 2]",
        " [2 2 2 2 2]",
        " [2 2 2 2 2]",
        " [2 2 2 2 2]]",
        "[[0 1 0 0 0 0 0 0 1 2 0 0 0 0 0 0 0 0 0 0 0]",
        " [0 0 0 2 0 0 0 0 0 2 0 0 0 0 0 0 0 0 0 0 0]",
        " [0 0 0 0 0 2 0 0 0 0 2 0 0 0 0 0 0 0 0 0 0]",
        " [0 0 0 0 0 0 0 2 0 0 0 2 0 0 0 0 0 0 0 0 0]",
        " [0 0 0 0 0 0 0 0 0 2 0 0 2 0 0 0 0 0 0 0 0]",
        " [0 0 0 0 0 0 0 0 0 0 0 2 0 2 0 0 0 0 0 0 0]",
        " [0 0 0 0 0 0 0 0 0 0 0 0 0 0 0 0 0 0 0 0 0]",
        " [0 0 0 0 0 0 0 0 0 0 0 0 0 0 0 2 0 0 0 0 0]",
        " [0 0 0 0 0 0 0 0 0 0 0 0 0 0 0 0 0 2 0 0 0]",
        " [0 0 0 0 0 0 0 0 0 0 0 0 0 0 0 0 0 0 0 2 0]",
        " [0 2 0 0 0 0 0 0 0 0 0 0 0 0 0 0 0 0 0 0 0]",
        " [0 0 0 2 0 0 0 0 0 0 0 0 0 0 0 0 0 0 0 0 0]",
        " [0 0 0 0 0 2 0 0 0 0 0 0 0 0 0 0 0 0 0 0 0]",
        " [0 0 0 0 0 0 0 2 0 0 0 0 0 0 0 0 0 0 0 0 0]",
        " [0 0 0 0 0 0 0 0 0 2 0 0 0 0 0 0 0 0 0 0 0]",
        " [0 0 0 0 0 0 0 0 0 0 0 2 0 0 0 0 0 0 0 0 0]",
        " [0 0 0 0 0 0 0 0 0 0 0 0 0 2 0 0 0 0 0 0 0]",
        " [0 0 0 0 0 0 0 0 0 0 0 0 0 0 0 2 0 0 0 0 0]",
        " [0 0 0 0 0 0 0 0 0 0 0 0 0 0 0 0 0 2 0 0 0]",
        " [0 0 0 0 0 0 0 0 0 0 0 0 0 0 0 0 0 0 0 2 0]",
        " [0 2 0 0 0 0 0 0 0 0 0 0 0 0 0 0 0 0 0 0 0]]"
       ]
      }
     ],
     "prompt_number": 165
    },
    {
     "cell_type": "code",
     "collapsed": false,
     "input": [
      "a = [[1,2,3,4],[1,2,3,4]]",
      "b = [[1,2,3,4],[1,2,3,4]]",
      "print a[1,1]",
      "#[sum(pair) for pair in zip(a[1:3],b[1:3])]"
     ],
     "language": "python",
     "outputs": [
      {
       "ename": "TypeError",
       "evalue": "list indices must be integers, not tuple",
       "output_type": "pyerr",
       "traceback": [
        "\u001b[1;31m---------------------------------------------------------------------------\u001b[0m\n\u001b[1;31mTypeError\u001b[0m                                 Traceback (most recent call last)",
        "\u001b[1;32mC:\\Users\\prisoner85\\PHYS200\\<ipython-input-70-d5d7ba52927d>\u001b[0m in \u001b[0;36m<module>\u001b[1;34m()\u001b[0m\n\u001b[0;32m      1\u001b[0m \u001b[0ma\u001b[0m \u001b[1;33m=\u001b[0m \u001b[1;33m[\u001b[0m\u001b[1;33m[\u001b[0m\u001b[1;36m1\u001b[0m\u001b[1;33m,\u001b[0m\u001b[1;36m2\u001b[0m\u001b[1;33m,\u001b[0m\u001b[1;36m3\u001b[0m\u001b[1;33m,\u001b[0m\u001b[1;36m4\u001b[0m\u001b[1;33m]\u001b[0m\u001b[1;33m,\u001b[0m\u001b[1;33m[\u001b[0m\u001b[1;36m1\u001b[0m\u001b[1;33m,\u001b[0m\u001b[1;36m2\u001b[0m\u001b[1;33m,\u001b[0m\u001b[1;36m3\u001b[0m\u001b[1;33m,\u001b[0m\u001b[1;36m4\u001b[0m\u001b[1;33m]\u001b[0m\u001b[1;33m]\u001b[0m\u001b[1;33m\u001b[0m\u001b[0m\n\u001b[0;32m      2\u001b[0m \u001b[0mb\u001b[0m \u001b[1;33m=\u001b[0m \u001b[1;33m[\u001b[0m\u001b[1;33m[\u001b[0m\u001b[1;36m1\u001b[0m\u001b[1;33m,\u001b[0m\u001b[1;36m2\u001b[0m\u001b[1;33m,\u001b[0m\u001b[1;36m3\u001b[0m\u001b[1;33m,\u001b[0m\u001b[1;36m4\u001b[0m\u001b[1;33m]\u001b[0m\u001b[1;33m,\u001b[0m\u001b[1;33m[\u001b[0m\u001b[1;36m1\u001b[0m\u001b[1;33m,\u001b[0m\u001b[1;36m2\u001b[0m\u001b[1;33m,\u001b[0m\u001b[1;36m3\u001b[0m\u001b[1;33m,\u001b[0m\u001b[1;36m4\u001b[0m\u001b[1;33m]\u001b[0m\u001b[1;33m]\u001b[0m\u001b[1;33m\u001b[0m\u001b[0m\n\u001b[1;32m----> 3\u001b[1;33m \u001b[1;32mprint\u001b[0m \u001b[0ma\u001b[0m\u001b[1;33m[\u001b[0m\u001b[1;36m1\u001b[0m\u001b[1;33m,\u001b[0m\u001b[1;36m1\u001b[0m\u001b[1;33m]\u001b[0m\u001b[1;33m\u001b[0m\u001b[0m\n\u001b[0m\u001b[0;32m      4\u001b[0m \u001b[1;31m#[sum(pair) for pair in zip(a[1:3],b[1:3])]\u001b[0m\u001b[1;33m\u001b[0m\u001b[1;33m\u001b[0m\u001b[0m\n",
        "\u001b[1;31mTypeError\u001b[0m: list indices must be integers, not tuple"
       ]
      }
     ],
     "prompt_number": 70
    },
    {
     "cell_type": "code",
     "collapsed": false,
     "input": [
      "dis = numpy.zeros((time+1,n), dtype=numpy.int)",
      "",
      "[sum(pair) for pair in zip(dis[3,:],dis[4,:])]"
     ],
     "language": "python",
     "outputs": [
      {
       "output_type": "pyout",
       "prompt_number": 87,
       "text": [
        "[0, 0, 0, 0, 0]"
       ]
      }
     ],
     "prompt_number": 87
    },
    {
     "cell_type": "code",
     "collapsed": false,
     "input": [
      "a = numpy.array([1,2,3,4,5,6,7,8])",
      "ind = len(a[numpy.where(a>9)])",
      "",
      "print ind"
     ],
     "language": "python",
     "outputs": [
      {
       "output_type": "stream",
       "stream": "stdout",
       "text": [
        "0"
       ]
      }
     ],
     "prompt_number": 150
    },
    {
     "cell_type": "code",
     "collapsed": false,
     "input": [
      "d = dict()",
      "d['a']=[1,2,3,4,5]",
      "d['b']=[2,3,4]",
      "print d"
     ],
     "language": "python",
     "outputs": [
      {
       "output_type": "stream",
       "stream": "stdout",
       "text": [
        "{'a': [1, 2, 3, 4, 5], 'b': [2, 3, 4]}"
       ]
      }
     ],
     "prompt_number": 6
    },
    {
     "cell_type": "code",
     "collapsed": false,
     "input": [
      "n = 5 #number of cars",
      "l = 20 #length of road",
      "time = 20# number of time steps to be taken",
      "mv = 2 #Max velocity",
      "",
      "import random",
      "import numpy",
      "road = numpy.zeros((time+1,l+1), dtype=numpy.int)",
      "loc = numpy.zeros((time+1,n), dtype=numpy.int)",
      "vel = numpy.zeros((time+1,n), dtype=numpy.int)",
      "dis = numpy.zeros((time+1,n), dtype=numpy.int)",
      "",
      "loc[0,:] = random.sample(range(l), n)#set initial locations",
      "for i in range(n): #set initial velocities",
      "    vel[0,i] = random.randint(0, mv)",
      "    ",
      "road[0,loc] = vel #place initial velocities in initial conditions",
      "",
      "tr1 = range(time)",
      "tr = [a+1 for a in tr1]",
      "",
      "for t in tr:",
      "    ",
      "    for k in range(n):",
      "        same = [loc[t-1,k]]*n",
      "        dif = numpy.array([a-b for a,b in zip(same,loc[t-1,:])])",
      "        dis_standin = numpy.where(dif>0)",
      "        if len(dif[dis_standin]) > 0:",
      "            dis[t,k] = min(dif[dis_standin])",
      "        else:",
      "            dis[t,k] = sum([min(dif),l])",
      "        if dis[t,k] <= vel[t-1,k]:",
      "            vel[t,k] = numpy.floor(dis[t,k]/2)",
      "        elif dis[t,k] > 2*vel[t-1,k]:",
      "            vel[t,k] = vel[t-1,k]+1",
      "        else:",
      "            vel[t,k] = vel[t-1,k]",
      "        if dis[t,k] >= mv:",
      "            vel[t,k] = mv",
      "            ",
      "    ",
      "    loc[t,:] = [sum(pair) for pair in zip(loc[t-1,:],vel[t,:])]",
      "    for s in range(n):",
      "        if loc[t,s] > 20:",
      "            loc[t,s] = loc[t,s]-20",
      "    ",
      "    road[t,loc[t,:]]= vel[t,:]      ",
      "    ",
      "passdic = dict()",
      "passdic['road'] = road",
      "passdic['location']=loc",
      "passdic['velocity']=vel",
      "print passdic['road']"
     ],
     "language": "python",
     "outputs": [
      {
       "output_type": "stream",
       "stream": "stdout",
       "text": [
        "[[0 0 0 0 0 0 0 1 1 0 0 0 0 0 0 0 0 0 0 0 0]",
        " [0 0 0 0 2 0 2 0 0 2 0 0 0 0 0 0 0 0 2 0 0]",
        " [0 0 0 0 0 0 2 0 2 0 2 0 0 0 0 0 0 0 0 0 2]",
        " [0 0 2 0 0 0 0 0 2 0 2 0 0 0 0 0 0 0 0 0 0]",
        " [0 0 0 0 2 0 0 0 0 0 2 0 2 0 0 0 0 0 0 0 0]",
        " [0 0 0 0 0 0 2 0 0 0 0 0 2 0 2 0 0 0 0 0 0]",
        " [0 0 0 0 0 0 0 0 2 0 0 0 0 0 2 0 2 0 0 0 0]",
        " [0 0 0 0 0 0 0 0 0 0 2 0 0 0 0 0 2 0 2 0 0]",
        " [0 0 0 0 0 0 0 0 0 0 0 0 2 0 0 0 0 0 2 0 2]",
        " [0 0 2 0 0 0 0 0 0 0 0 0 0 0 2 0 0 0 0 0 2]",
        " [0 0 2 0 2 0 0 0 0 0 0 0 0 0 0 0 2 0 0 0 0]",
        " [0 0 0 0 2 0 2 0 0 0 0 0 0 0 0 0 0 0 2 0 0]",
        " [0 0 0 0 0 0 2 0 2 0 0 0 0 0 0 0 0 0 0 0 2]",
        " [0 0 2 0 0 0 0 0 2 0 2 0 0 0 0 0 0 0 0 0 0]",
        " [0 0 0 0 2 0 0 0 0 0 2 0 2 0 0 0 0 0 0 0 0]",
        " [0 0 0 0 0 0 2 0 0 0 0 0 2 0 2 0 0 0 0 0 0]",
        " [0 0 0 0 0 0 0 0 2 0 0 0 0 0 2 0 2 0 0 0 0]",
        " [0 0 0 0 0 0 0 0 0 0 2 0 0 0 0 0 2 0 2 0 0]",
        " [0 0 0 0 0 0 0 0 0 0 0 0 2 0 0 0 0 0 2 0 2]",
        " [0 0 2 0 0 0 0 0 0 0 0 0 0 0 2 0 0 0 0 0 2]",
        " [0 0 2 0 2 0 0 0 0 0 0 0 0 0 0 0 2 0 0 0 0]]"
       ]
      }
     ],
     "prompt_number": 9
    },
    {
     "cell_type": "code",
     "collapsed": true,
     "input": [],
     "language": "python",
     "outputs": []
    }
   ]
  }
 ]
}