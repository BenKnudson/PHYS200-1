{
 "metadata": {
  "name": "Ch8_ThinkPython"
 },
 "nbformat": 3,
 "worksheets": [
  {
   "cells": [
    {
     "cell_type": "heading",
     "level": 1,
     "source": [
      "Ch 8 Exercises"
     ]
    },
    {
     "cell_type": "heading",
     "level": 4,
     "source": [
      "Assignment: Exercise 8.1, 8.2, 8.4, 8.5, 8.6, 8.9, 8.10"
     ]
    },
    {
     "cell_type": "heading",
     "level": 4,
     "source": [
      "Exercise 8.1 Write a function that takes a string as an argument and displays the letters backward,",
      "one per line."
     ]
    },
    {
     "cell_type": "code",
     "collapsed": false,
     "input": [
      "def String_Backwards(a):",
      "    for i in range(len(a)):",
      "        print a[len(a)-1-i]",
      "    ",
      "    ",
      "String_Backwards('dog')   "
     ],
     "language": "python",
     "outputs": [
      {
       "output_type": "stream",
       "stream": "stdout",
       "text": [
        "g",
        "o",
        "d"
       ]
      }
     ],
     "prompt_number": 15
    },
    {
     "cell_type": "heading",
     "level": 4,
     "source": [
      "Exercise 8.2 Modify the program to fix this error."
     ]
    },
    {
     "cell_type": "code",
     "collapsed": false,
     "input": [
      "prefixes = ' J K L M NOu PQu'",
      "suffix = 'ack'",
      "for i in range(len(prefixes)/2):",
      "    letter = prefixes[2*i] + prefixes[2*i+1]",
      "    print letter + suffix"
     ],
     "language": "python",
     "outputs": [
      {
       "output_type": "stream",
       "stream": "stdout",
       "text": [
        " Jack",
        " Kack",
        " Lack",
        " Mack",
        " Nack",
        "Ouack",
        " Pack",
        "Quack"
       ]
      }
     ],
     "prompt_number": 21
    },
    {
     "cell_type": "heading",
     "level": 4,
     "source": [
      "Exercise 8.4 Modify find so that it has a third parameter, the index in word where it should start",
      "looking."
     ]
    },
    {
     "cell_type": "code",
     "collapsed": false,
     "input": [
      "def find(word, letter, minimum):",
      "    index = minimum",
      "    while index < len(word):",
      "        if word[index] == letter:",
      "            return index",
      "        index = index + 1",
      "    return -1",
      "",
      "print find('odapnsdan','p',0)",
      "print find('odapnsdan','p',4)"
     ],
     "language": "python",
     "outputs": [
      {
       "output_type": "stream",
       "stream": "stdout",
       "text": [
        "3",
        "-1"
       ]
      }
     ],
     "prompt_number": 29
    },
    {
     "cell_type": "heading",
     "level": 4,
     "source": [
      "Exercise 8.5 Encapsulate this code in a function named count, and generalize it so that it accepts",
      "the string and the letter as arguments."
     ]
    },
    {
     "cell_type": "code",
     "collapsed": false,
     "input": [
      "def count(word,let):",
      "    count = 0",
      "    for letter in word:",
      "        if letter == let:",
      "            count = count + 1",
      "    return count",
      "",
      "count('banana','a')"
     ],
     "language": "python",
     "outputs": [
      {
       "output_type": "pyout",
       "prompt_number": 27,
       "text": [
        "3"
       ]
      }
     ],
     "prompt_number": 27
    },
    {
     "cell_type": "heading",
     "level": 4,
     "source": [
      "Exercise 8.6 Rewrite this function so that instead of traversing the string, it uses the three-parameter",
      "version of find from the previous section."
     ]
    },
    {
     "cell_type": "plaintext",
     "source": [
      "erm...what? that sounds horribly inefficient... I must have done one of those wrong..."
     ]
    },
    {
     "cell_type": "heading",
     "level": 4,
     "source": [
      "Exercise 8.9 A string slice can take a third index that specifies the \u201cstep size;\u201d that is, the number of",
      "spaces between successive characters. A step size of 2 means every other character; 3 means every",
      "third, etc.",
      "A step size of -1 goes through the word backwards, so the slice [::-1] generates a reversed string.",
      "Use this idiom to write a one-line version of is_palindrome from Exercise 6.6."
     ]
    },
    {
     "cell_type": "code",
     "collapsed": false,
     "input": [
      "def is_palindrome(word):",
      "    return word[::-1]",
      "",
      "print is_palindrome('madamimadam')",
      "print is_palindrome('peanutbutter')"
     ],
     "language": "python",
     "outputs": [
      {
       "output_type": "stream",
       "stream": "stdout",
       "text": [
        "madamimadam",
        "rettubtunaep"
       ]
      }
     ],
     "prompt_number": 30
    },
    {
     "cell_type": "heading",
     "level": 4,
     "source": [
      "Exercise 8.10 Read the documentation of the string methods at docs.python.org/lib/",
      "string-methods.html."
     ]
    },
    {
     "cell_type": "plaintext",
     "source": [
      "dun got readed."
     ]
    },
    {
     "cell_type": "code",
     "collapsed": false,
     "input": [
      "print 'this is kinda cool'.replace('is','XX')",
      "print 'this is kinda cool'.rsplit(' ')"
     ],
     "language": "python",
     "outputs": [
      {
       "output_type": "stream",
       "stream": "stdout",
       "text": [
        "thXX XX kinda cool",
        "['this', 'is', 'kinda', 'cool']"
       ]
      }
     ],
     "prompt_number": 33
    },
    {
     "cell_type": "code",
     "collapsed": true,
     "input": [],
     "language": "python",
     "outputs": []
    }
   ]
  }
 ]
}