{
 "metadata": {
  "name": "Ch3_ThinkPython"
 },
 "nbformat": 3,
 "worksheets": [
  {
   "cells": [
    {
     "cell_type": "code",
     "collapsed": true,
     "input": [
      "import math"
     ],
     "language": "python",
     "outputs": [],
     "prompt_number": 1
    },
    {
     "cell_type": "code",
     "collapsed": false,
     "input": [
      "math.pi"
     ],
     "language": "python",
     "outputs": [
      {
       "output_type": "pyout",
       "prompt_number": 2,
       "text": [
        "3.141592653589793"
       ]
      }
     ],
     "prompt_number": 2
    },
    {
     "cell_type": "code",
     "collapsed": false,
     "input": [
      "#Ex3.1",
      "",
      "repeat_lyrics()  #It doesn't like it.",
      "",
      "def print_lyrics():",
      "    print \"I'm a lumberjack, and I'm okay.\"",
      "    print \"I sleep all night and I work all day.\"",
      "",
      "def repeat_lyrics():  ",
      "    print_lyrics()",
      "    print_lyrics()"
     ],
     "language": "python",
     "outputs": [
      {
       "ename": "NameError",
       "evalue": "name 'repeat_lyrics' is not defined",
       "output_type": "pyerr",
       "traceback": [
        "\u001b[1;31m---------------------------------------------------------------------------\u001b[0m\n\u001b[1;31mNameError\u001b[0m                                 Traceback (most recent call last)",
        "\u001b[1;32mC:\\Users\\prisoner85\\<ipython-input-14-c55942793e07>\u001b[0m in \u001b[0;36m<module>\u001b[1;34m()\u001b[0m\n\u001b[0;32m      1\u001b[0m \u001b[1;31m#Ex3.1\u001b[0m\u001b[1;33m\u001b[0m\u001b[1;33m\u001b[0m\u001b[0m\n\u001b[0;32m      2\u001b[0m \u001b[1;33m\u001b[0m\u001b[0m\n\u001b[1;32m----> 3\u001b[1;33m \u001b[0mrepeat_lyrics\u001b[0m\u001b[1;33m(\u001b[0m\u001b[1;33m)\u001b[0m\u001b[1;33m\u001b[0m\u001b[0m\n\u001b[0m\u001b[0;32m      4\u001b[0m \u001b[1;33m\u001b[0m\u001b[0m\n\u001b[0;32m      5\u001b[0m \u001b[1;32mdef\u001b[0m \u001b[0mprint_lyrics\u001b[0m\u001b[1;33m(\u001b[0m\u001b[1;33m)\u001b[0m\u001b[1;33m:\u001b[0m\u001b[1;33m\u001b[0m\u001b[0m\n",
        "\u001b[1;31mNameError\u001b[0m: name 'repeat_lyrics' is not defined"
       ]
      }
     ],
     "prompt_number": 14
    },
    {
     "cell_type": "code",
     "collapsed": false,
     "input": [
      "#Ex3.2",
      "",
      "def repeat_lyrics():  ",
      "    print_lyrics()",
      "    print_lyrics()",
      "    ",
      "def print_lyrics():",
      "    print \"I'm a lumberjack, and I'm okay.\"",
      "    print \"I sleep all night and I work all day.\"",
      "    ",
      "repeat_lyrics()  #hmmm... apparently THOSE work out of order... weird..."
     ],
     "language": "python",
     "outputs": [
      {
       "output_type": "stream",
       "stream": "stdout",
       "text": [
        "I'm a lumberjack, and I'm okay.",
        "I sleep all night and I work all day.",
        "I'm a lumberjack, and I'm okay.",
        "I sleep all night and I work all day."
       ]
      }
     ],
     "prompt_number": 15
    },
    {
     "cell_type": "code",
     "collapsed": false,
     "input": [
      "#Ex3.3",
      "",
      "def right_justify(bruce):",
      "    l = len(bruce)",
      "    bruceJr = (70-l)*' ' +bruce",
      "    print bruceJr",
      "    ",
      "right_justify('allen')"
     ],
     "language": "python",
     "outputs": [
      {
       "output_type": "stream",
       "stream": "stdout",
       "text": [
        "                                                                 allen"
       ]
      }
     ],
     "prompt_number": 17
    },
    {
     "cell_type": "code",
     "collapsed": false,
     "input": [
      "#Ex3.4",
      "#1",
      "def do_twice1(f):",
      "    f()",
      "    f()",
      "    ",
      "def print_spam():",
      "    print 'spam'",
      "",
      "do_twice1(print_spam)",
      "",
      "print '------------------'",
      "",
      "#2",
      "def do_twice(f,a):",
      "    f(a)",
      "    f(a)",
      "    ",
      "#3",
      "def print_twice(bruce):",
      "    print bruce",
      "    print bruce",
      "    ",
      "#4    ",
      "do_twice(print_twice,'spam')",
      "",
      "#5",
      "def do_four(f,bruce):",
      "    print do_twice(f,bruce)",
      "    print do_twice(f,bruce)",
      "",
      "",
      "print '---------------'",
      "do_four(print_twice,'spam')",
      "  ",
      "    "
     ],
     "language": "python",
     "outputs": [
      {
       "output_type": "stream",
       "stream": "stdout",
       "text": [
        "spam",
        "spam",
        "------------------",
        "spam",
        "spam",
        "spam",
        "spam",
        "---------------",
        "spam",
        "spam",
        "spam",
        "spam",
        "None",
        "spam",
        "spam",
        "spam",
        "spam",
        "None"
       ]
      }
     ],
     "prompt_number": 59
    },
    {
     "cell_type": "code",
     "collapsed": false,
     "input": [
      "#Ex3.5 NOTE: I get bothersome None's in there, that come from my do_four()... but I'm not sure how. :/",
      "#1",
      "",
      "def printit(bruce):",
      "    print bruce",
      "",
      "    ",
      "def mk_grid():",
      "    a = '+'+4*' -'",
      "    b = '|'+4*'  '",
      "    c = a+a+'+'",
      "    d = b+b+'|'",
      "    print c",
      "    do_four(printit,d)",
      "    print c",
      "    do_four(printit,d)",
      "    print c",
      "    ",
      "mk_grid()",
      "",
      "#2",
      "print ",
      "print",
      "",
      "def mk_grid4():",
      "    a = '+'+4*' -'",
      "    b = '|'+4*'  '",
      "    c = 4*a+'+'",
      "    d = 4*b+'|'",
      "    print c",
      "    do_four(printit,d) ",
      "    print c",
      "    do_four(printit,d)",
      "    print c",
      "    do_four(printit,d)",
      "    print c",
      "    do_four(printit,d)",
      "    print c    ",
      "",
      "mk_grid4()"
     ],
     "language": "python",
     "outputs": [
      {
       "output_type": "stream",
       "stream": "stdout",
       "text": [
        "+ - - - -+ - - - -+",
        "|        |        |",
        "|        |        |",
        "None",
        "|        |        |",
        "|        |        |",
        "None",
        "+ - - - -+ - - - -+",
        "|        |        |",
        "|        |        |",
        "None",
        "|        |        |",
        "|        |        |",
        "None",
        "+ - - - -+ - - - -+",
        "",
        "",
        "+ - - - -+ - - - -+ - - - -+ - - - -+",
        "|        |        |        |        |",
        "|        |        |        |        |",
        "None",
        "|        |        |        |        |",
        "|        |        |        |        |",
        "None",
        "+ - - - -+ - - - -+ - - - -+ - - - -+",
        "|        |        |        |        |",
        "|        |        |        |        |",
        "None",
        "|        |        |        |        |",
        "|        |        |        |        |",
        "None",
        "+ - - - -+ - - - -+ - - - -+ - - - -+",
        "|        |        |        |        |",
        "|        |        |        |        |",
        "None",
        "|        |        |        |        |",
        "|        |        |        |        |",
        "None",
        "+ - - - -+ - - - -+ - - - -+ - - - -+",
        "|        |        |        |        |",
        "|        |        |        |        |",
        "None",
        "|        |        |        |        |",
        "|        |        |        |        |",
        "None",
        "+ - - - -+ - - - -+ - - - -+ - - - -+"
       ]
      }
     ],
     "prompt_number": 66
    },
    {
     "cell_type": "code",
     "collapsed": true,
     "input": [],
     "language": "python",
     "outputs": []
    }
   ]
  }
 ]
}