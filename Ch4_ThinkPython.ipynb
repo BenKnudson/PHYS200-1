{
 "metadata": {
  "name": "Ch4_ThinkPython"
 },
 "nbformat": 3,
 "worksheets": [
  {
   "cells": [
    {
     "cell_type": "code",
     "collapsed": false,
     "input": [
      "import sys",
      "sys.path.append(\"C:\\Users\\prisoner85\\PHYS200\\swampy-2.0\")",
      "",
      "from TurtleWorld import *",
      "world = TurtleWorld()",
      "bob = Turtle()",
      "print bob",
      "",
      "fd(bob,100)",
      "lt(bob,90)",
      "fd(bob,100)",
      "lt(bob,90)",
      "fd(bob,100)",
      "lt(bob,90)",
      "fd(bob,100)",
      "lt(bob,90)"
     ],
     "language": "python",
     "outputs": [
      {
       "output_type": "stream",
       "stream": "stdout",
       "text": [
        "<TurtleWorld.Turtle object at 0x00000000080905F8>"
       ]
      }
     ],
     "prompt_number": 2
    },
    {
     "cell_type": "code",
     "collapsed": false,
     "input": [
      "for i in range(4):",
      "    print 'Hello!'"
     ],
     "language": "python",
     "outputs": [
      {
       "output_type": "stream",
       "stream": "stdout",
       "text": [
        "Hello!",
        "Hello!",
        "Hello!",
        "Hello!"
       ]
      }
     ],
     "prompt_number": 2
    },
    {
     "cell_type": "code",
     "collapsed": false,
     "input": [
      "for i in range(4):",
      "   fd(bob, 100)",
      "   lt(bob)"
     ],
     "language": "python",
     "outputs": [],
     "prompt_number": 3
    },
    {
     "cell_type": "heading",
     "level": 1,
     "source": [
      "CH4 EXERCISES"
     ]
    },
    {
     "cell_type": "heading",
     "level": 4,
     "source": [
      "1)Write a function called square that takes a parameter named t, which is a turtle. It should",
      "use the turtle to draw a square.",
      "Write a function call that passes bob as an argument to square, and then run the program",
      "again."
     ]
    },
    {
     "cell_type": "code",
     "collapsed": false,
     "input": [
      "def square(t):",
      "    for i in range(4):",
      "        fd(t, 100)",
      "        lt(t,90)",
      "    ",
      "square(bob)"
     ],
     "language": "python",
     "outputs": [],
     "prompt_number": 23
    },
    {
     "cell_type": "heading",
     "level": 4,
     "source": [
      "2) Add another parameter, named length, to square. Modify the body so length of the sides is",
      "length, and then modify the function call to provide a second argument. Run the program",
      "again. Test your program with a range of values for length."
     ]
    },
    {
     "cell_type": "code",
     "collapsed": true,
     "input": [
      "def square(t,length):",
      "    for i in range(4):",
      "        fd(t, length)",
      "        lt(t,90)",
      "    ",
      "square(bob,10)"
     ],
     "language": "python",
     "outputs": [],
     "prompt_number": 24
    },
    {
     "cell_type": "heading",
     "level": 4,
     "source": [
      "3) The functions lt and rt make 90-degree turns by default, but you can provide a second",
      "argument that specifies the number of degrees. For example, lt(bob, 45) turns bob 45",
      "degrees to the left.",
      "Make a copy of square and change the name to polygon. Add another parameter named n",
      "and modify the body so it draws an n-sided regular polygon. Hint: The exterior angles of an",
      "n-sided regular polygon are 360.0/n degrees."
     ]
    },
    {
     "cell_type": "code",
     "collapsed": true,
     "input": [
      "def polygon(t,length,n):",
      "    ang = 360.0/n;",
      "    for i in range(n):",
      "        fd(t, length)",
      "        lt(t,ang)",
      "    ",
      "polygon(bob,10,20)"
     ],
     "language": "python",
     "outputs": [],
     "prompt_number": 28
    },
    {
     "cell_type": "heading",
     "level": 4,
     "source": [
      "4)Write a function called circle that takes a turtle, t, and radius, r, as parameters and that",
      "draws an approximate circle by invoking polygon with an appropriate length and number of",
      "sides. Test your function with a range of values of r."
     ]
    },
    {
     "cell_type": "code",
     "collapsed": true,
     "input": [
      "def circle(t,r):",
      "    n = 500;",
      "    bob.delay = 0.0001;",
      "    ang = 360.0/n;",
      "    length = 2*pi*r/n;",
      "    for i in range(n):",
      "        fd(t, length)",
      "        lt(t,ang)",
      "    ",
      "circle(bob,50)"
     ],
     "language": "python",
     "outputs": [],
     "prompt_number": 44
    },
    {
     "cell_type": "heading",
     "level": 4,
     "source": [
      "5)Make a more general version of circle called arc that takes an additional parameter angle,",
      "which determines what fraction of a circle to draw. angle is in units of degrees, so when",
      "angle=360, arc should draw a complete circle."
     ]
    },
    {
     "cell_type": "code",
     "collapsed": false,
     "input": [
      "def arc(t,r,ang):",
      "    n = 100;",
      "    n2 = (n*ang)/360",
      "    bob.delay = 0.01;",
      "    ang2 = 360.0/n;",
      "    length = 2*pi*r/n;",
      "    for i in range(n2):",
      "        fd(t, length)",
      "        lt(t,ang2)",
      "    ",
      "arc(bob,50,180)"
     ],
     "language": "python",
     "outputs": [],
     "prompt_number": 3
    },
    {
     "cell_type": "code",
     "collapsed": true,
     "input": [
      "def arc2(t,r,ang):",
      "    n = 500;",
      "    import math",
      "    n2 = (n*ang)/360",
      "    bob.delay = 0.01;",
      "    ang2 = 360.0/n;",
      "    length = 2*pi*r/n;",
      "    fd(t,r)",
      "    lt(t,90)",
      "    for i in range(n2):",
      "        fd(t, length)",
      "        lt(t,ang2)",
      "    lt(t,90)",
      "    fd(t,r)",
      "    ",
      "arc2(bob,50,90)"
     ],
     "language": "python",
     "outputs": [],
     "prompt_number": 1
    },
    {
     "cell_type": "code",
     "collapsed": false,
     "input": [
      "import sys",
      "sys.path.append(\"C:\\Users\\prisoner85\\PHYS200\\swampy-2.0\")",
      "",
      "from TurtleWorld import *",
      "world = TurtleWorld()",
      "bob = Turtle()",
      "print bob",
      "",
      "for j in range(10):",
      "",
      "    for i in range(100):",
      "        arc2(bob,100,10)",
      "    ",
      "    fd(bob,100)",
      "    "
     ],
     "language": "python",
     "outputs": [
      {
       "output_type": "stream",
       "stream": "stdout",
       "text": [
        "<TurtleWorld.Turtle object at 0x0000000007F22EB8>"
       ]
      }
     ],
     "prompt_number": 2
    },
    {
     "cell_type": "heading",
     "level": 1,
     "source": [
      "4.12 Exercises"
     ]
    },
    {
     "cell_type": "code",
     "collapsed": false,
     "input": [
      "",
      "import sys",
      "sys.path.append(\"C:\\Users\\prisoner85\\PHYS200\\swampy-2.0\")",
      "",
      "from TurtleWorld import *",
      "world = TurtleWorld()",
      "bob = Turtle()",
      "print bob",
      "    ",
      "def polygon(t,length,n):",
      "    ang = 360.0/n;",
      "    for i in range(n):",
      "        fd(t, length)",
      "        lt(t,ang)",
      "",
      "def circle(t,r):",
      "    n = 500;",
      "    bob.delay = 0.0001;",
      "    ang = 360.0/n;",
      "    length = 2*pi*r/n;",
      "    for i in range(n):",
      "        fd(t, length)",
      "        lt(t,ang)",
      "        ",
      "def arc(t,r,ang):",
      "    n = 500;",
      "    n2 = (n*ang)/360",
      "    bob.delay = 0.01;",
      "    ang2 = 360.0/n;",
      "    length = 2*pi*r/n;",
      "    for i in range(int(n2)):",
      "        fd(t, length)",
      "        lt(t,ang2)"
     ],
     "language": "python",
     "outputs": [
      {
       "output_type": "stream",
       "stream": "stdout",
       "text": [
        "<TurtleWorld.Turtle object at 0x0000000007FA3390>"
       ]
      }
     ],
     "prompt_number": 1
    },
    {
     "cell_type": "heading",
     "level": 3,
     "source": [
      "Exercise 4.1"
     ]
    },
    {
     "cell_type": "heading",
     "level": 4,
     "source": [
      "1. Write appropriate docstrings for polygon, arc and circle.",
      "2. Draw a stack diagram that shows the state of the program while executing circle(bob,",
      "radius). You can do the arithmetic by hand or add print statements to the code.",
      "3. The version of arc in Section 4.7 is not very accurate because the linear approximation of the",
      "circle is always outside the true circle. As a result, the turtle ends up a few units away from",
      "the correct destination. My solution shows a way to reduce the effect of this error. Read the",
      "code and see if it makes sense to you. If you draw a diagram, you might see how it works."
     ]
    },
    {
     "cell_type": "plaintext",
     "source": [
      "1) "
     ]
    },
    {
     "cell_type": "code",
     "collapsed": true,
     "input": [
      "def polygon(t,length,n):",
      "    #the turtle (t), draws an (n) sided regular polygon with ",
      "    #side lengths (length)",
      "    #ex: polygon(bob,10,4) has bob draw a square with 10 steps a side.",
      "    ang = 360.0/n;",
      "    for i in range(n):",
      "        fd(t, length)",
      "        lt(t,ang)"
     ],
     "language": "python",
     "outputs": [],
     "prompt_number": 4
    },
    {
     "cell_type": "code",
     "collapsed": true,
     "input": [
      "def circle(t,r):",
      "    #turtle (t) draws an approximate circle with radius (r).",
      "    #ex: circle(bob,100) ",
      "    #   has bob draw a regular 500 sided polygon with radius of 100 steps.",
      "    n = 500;",
      "    bob.delay = 0.0001;",
      "    ang = 360.0/n;",
      "    length = 2*pi*r/n;",
      "    for i in range(n):",
      "        fd(t, length)",
      "        lt(t,ang)"
     ],
     "language": "python",
     "outputs": [],
     "prompt_number": 5
    },
    {
     "cell_type": "code",
     "collapsed": true,
     "input": [
      "def arc(t,r,ang):",
      "    #turtle (t) draws an approx. arc of radius (r) subtending angle (ang)",
      "    #ex: arc(bob,100,180)",
      "    #has bob draw a half circle with radius of 100 steps.",
      "    n = 500;",
      "    n2 = (n*ang)/360",
      "    bob.delay = 0.01;",
      "    ang2 = 360.0/n;",
      "    length = 2*pi*r/n;",
      "    for i in range(n2):",
      "        fd(t, length)",
      "        lt(t,ang2)"
     ],
     "language": "python",
     "outputs": [],
     "prompt_number": 14
    },
    {
     "cell_type": "plaintext",
     "source": [
      "2) what's a stack diagram?"
     ]
    },
    {
     "cell_type": "plaintext",
     "source": [
      "3) so... was there a question in there somewhere? (I'm glad this book was free)"
     ]
    },
    {
     "cell_type": "heading",
     "level": 3,
     "source": [
      "Exercise 4.2"
     ]
    },
    {
     "cell_type": "plaintext",
     "source": [
      "Write an appropriately general set of functions that can draw flowers like the figure."
     ]
    },
    {
     "cell_type": "code",
     "collapsed": false,
     "input": [
      "def flower(t,n):",
      "    #Have turtle (t) draw a flower with n petals",
      "    a = 360.0/n",
      "    for i in range(n):",
      "        arc(t,50,a)",
      "        lt(t,180-a)",
      "        arc(t,50,a)",
      "        lt(t,180)"
     ],
     "language": "python",
     "outputs": [],
     "prompt_number": 28
    },
    {
     "cell_type": "heading",
     "level": 3,
     "source": [
      "Exercise 4.3"
     ]
    },
    {
     "cell_type": "plaintext",
     "source": [
      "Write an appropriately general set of functions that can draw flowers like the figure."
     ]
    },
    {
     "cell_type": "code",
     "collapsed": false,
     "input": [
      "def linogon(t,r,n):",
      "    #Have turtle (t) draw a regular polygon with (n) sides made ",
      "    #out of triangles which can be inscribed in a circle of radius (r).",
      "    ang = 360.0/n",
      "    bob.delay = 0.01",
      "    ang2 = 180-(180-ang)/2.",
      "    side = 2*r*sin(pi/n)",
      "    for i in range(n):",
      "        fd(t,r)",
      "        lt(t,ang2)",
      "        fd(t,side)",
      "        lt(t,ang2)",
      "        fd(t,r)",
      "        lt(t,180)"
     ],
     "language": "python",
     "outputs": [],
     "prompt_number": 6
    },
    {
     "cell_type": "code",
     "collapsed": false,
     "input": [
      "linogon(bob,50,320)"
     ],
     "language": "python",
     "outputs": [],
     "prompt_number": 10
    },
    {
     "cell_type": "heading",
     "level": 3,
     "source": [
      "Exercise 4.4"
     ]
    },
    {
     "cell_type": "plaintext",
     "source": [
      "The letters of the alphabet can be constructed from a moderate number of basic elements,like vertical and horizontal lines and a few curves. Design a font that can be drawn with a minimal number of basic elements and then write functions that draw letters of the alphabet."
     ]
    },
    {
     "cell_type": "plaintext",
     "source": [
      "... yeah... that's a waste of time..."
     ]
    },
    {
     "cell_type": "code",
     "collapsed": true,
     "input": [],
     "language": "python",
     "outputs": []
    }
   ]
  }
 ]
}