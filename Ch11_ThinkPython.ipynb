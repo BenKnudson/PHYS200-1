{
 "metadata": {
  "name": "Ch11_ThinkPython"
 },
 "nbformat": 3,
 "worksheets": [
  {
   "cells": [
    {
     "cell_type": "heading",
     "level": 1,
     "source": [
      "Ch 11 Exercises"
     ]
    },
    {
     "cell_type": "heading",
     "level": 4,
     "source": [
      "Exercise 11.1, 11.2, 11.3, 11.4, 11.5"
     ]
    },
    {
     "cell_type": "heading",
     "level": 4,
     "source": [
      "Exercise 11.1 Write a function that reads the words in words.txt and stores them as keys in a",
      "dictionary. It doesn\u2019t matter what the values are. Then you can use the in operator as a fast way to",
      "check whether a string is in the dictionary."
     ]
    },
    {
     "cell_type": "code",
     "collapsed": false,
     "input": [
      "fin = open('Swampy-2.0/words.txt')",
      "d = dict()",
      "for line in fin:",
      "    d[line.strip()] = ' '",
      "    ",
      "print 'aa' in d",
      "print 'pledgors' in d",
      "print 'aint' in d"
     ],
     "language": "python",
     "outputs": [
      {
       "output_type": "stream",
       "stream": "stdout",
       "text": [
        "True",
        "True",
        "False"
       ]
      }
     ],
     "prompt_number": 9
    },
    {
     "cell_type": "heading",
     "level": 4,
     "source": [
      "Exercise 11.2 Use get to write histogram more concisely. You should be able to eliminate the if statement."
     ]
    },
    {
     "cell_type": "code",
     "collapsed": false,
     "input": [
      "def histogram(s):",
      "    d = dict()",
      "    for c in s:",
      "        d[c] = d.get(c,0)+1",
      "    return d",
      "",
      "print histogram('banana')"
     ],
     "language": "python",
     "outputs": [
      {
       "output_type": "stream",
       "stream": "stdout",
       "text": [
        "{'a': 3, 'b': 1, 'n': 2}"
       ]
      }
     ],
     "prompt_number": 10
    },
    {
     "cell_type": "heading",
     "level": 4,
     "source": [
      "Exercise 11.3 Modify print_hist to print the keys and their values in alphabetical order."
     ]
    },
    {
     "cell_type": "code",
     "collapsed": false,
     "input": [
      "def print_hist(h):",
      "    alpha = 'abcdefghijklmnopqrstuvwxyz'",
      "    for c in alpha:",
      "        if h.get(c,0) != 0:",
      "            print c+':'+str(h.get(c,0))",
      "",
      "h = histogram('supercalifragilisticexpialidocious')",
      "print_hist(h)            "
     ],
     "language": "python",
     "outputs": [
      {
       "output_type": "stream",
       "stream": "stdout",
       "text": [
        "a:3",
        "c:3",
        "d:1",
        "e:2",
        "f:1",
        "g:1",
        "i:7",
        "l:3",
        "o:2",
        "p:2",
        "r:2",
        "s:3",
        "t:1",
        "u:2",
        "x:1"
       ]
      }
     ],
     "prompt_number": 15
    },
    {
     "cell_type": "heading",
     "level": 4,
     "source": [
      "Exercise 11.4 Modify reverse_lookup so that it builds and returns a list of all keys that map to v,",
      "or an empty list if there are none."
     ]
    },
    {
     "cell_type": "code",
     "collapsed": false,
     "input": [
      "def reverse_lookup(d, v):",
      "    count = 0",
      "    for k in d:",
      "         if d[k] == v:",
      "             count = count+1",
      "    l = [0]*count",
      "    count = 0",
      "    for j in d:",
      "        if d[j] == v:",
      "            l[count] = j",
      "            count = count+1",
      "    return l",
      "        ",
      "h = histogram('supercalifragilisticexpialidocious')",
      "print reverse_lookup(h,2)"
     ],
     "language": "python",
     "outputs": [
      {
       "output_type": "stream",
       "stream": "stdout",
       "text": [
        "['e', 'o', 'p', 'r', 'u']"
       ]
      }
     ],
     "prompt_number": 22
    },
    {
     "cell_type": "heading",
     "level": 4,
     "source": [
      "Exercise 11.5 Read the documentation of the dictionary method setdefault and use it to write a",
      "more concise version of invert_dict."
     ]
    },
    {
     "cell_type": "plaintext",
     "source": [
      "I can't find good documentation for setdefault other than \"It's the same as get... but different...\" so here is one using get."
     ]
    },
    {
     "cell_type": "code",
     "collapsed": false,
     "input": [
      "def invert_dict(d):",
      "    inv = dict()",
      "    d2 = dict()",
      "    for key in d:",
      "        d2[d[key]] = 0 ",
      "    for key2 in d2:",
      "        for key3 in d:",
      "            if key2 == d[key3]:",
      "                d2[key2] = d2.get(key2,0)+1",
      "    for key4 in d2:",
      "        l = [' ']*d2.get(key4,0)",
      "        i=0",
      "        for key5 in d:",
      "            if key4 == d[key5]:",
      "                l[i] = key5",
      "                i = i+1",
      "        inv[key4] = l",
      "    return inv",
      "        ",
      "",
      "h = histogram('supercalifragilisticexpialidocious')",
      "print h",
      "print invert_dict(h)"
     ],
     "language": "python",
     "outputs": [
      {
       "output_type": "stream",
       "stream": "stdout",
       "text": [
        "{'a': 3, 'c': 3, 'e': 2, 'd': 1, 'g': 1, 'f': 1, 'i': 7, 'l': 3, 'o': 2, 'p': 2, 's': 3, 'r': 2, 'u': 2, 't': 1, 'x': 1}",
        "{1: ['d', 'g', 'f', 't', 'x'], 2: ['e', 'o', 'p', 'r', 'u'], 3: ['a', 'c', 'l', 's'], 7: ['i']}"
       ]
      }
     ],
     "prompt_number": 30
    }
   ]
  }
 ]
}