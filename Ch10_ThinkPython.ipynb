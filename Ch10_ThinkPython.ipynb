{
 "metadata": {
  "name": "Ch10_ThinkPython"
 },
 "nbformat": 3,
 "worksheets": [
  {
   "cells": [
    {
     "cell_type": "heading",
     "level": 1,
     "source": [
      "Ch 10 Exercises"
     ]
    },
    {
     "cell_type": "heading",
     "level": 4,
     "source": [
      "Assignment: Exercise 10.1, 10.2, 10.3, 10.4"
     ]
    },
    {
     "cell_type": "heading",
     "level": 4,
     "source": [
      "Exercise 10.1 Write a function that takes a list of numbers and returns the cumulative sum; that",
      "is, a new list where the ith element is the sum of the first i+1 elements from the original list. For",
      "example, the cumulative sum of [1, 2, 3] is [1, 3, 6]."
     ]
    },
    {
     "cell_type": "code",
     "collapsed": false,
     "input": [
      "def cum_sum(l):",
      "    l2 = [0]*size(l)",
      "    for i in range(size(l)):",
      "        l2[i] = sum(l[0:i+1])",
      "    return l2",
      "",
      "print cum_sum([1,2,3])"
     ],
     "language": "python",
     "outputs": [
      {
       "output_type": "stream",
       "stream": "stdout",
       "text": [
        "[1, 3, 6]"
       ]
      }
     ],
     "prompt_number": 31
    },
    {
     "cell_type": "heading",
     "level": 4,
     "source": [
      "Exercise 10.2 Write a function called chop that takes a list and modifies it, removing the first and",
      "last elements, and returns None.",
      "Then write a function called middle that takes a list and returns a new list that contains all but the",
      "first and last elements."
     ]
    },
    {
     "cell_type": "plaintext",
     "source": [
      "I have no idea what that first question wants... but here's the second."
     ]
    },
    {
     "cell_type": "code",
     "collapsed": false,
     "input": [
      "def middle(word):",
      "    w2 = word[1]",
      "    for i in range(len(word)-3):",
      "        w2 = w2+word[i+2]",
      "    return w2",
      "",
      "middle('mississippi')"
     ],
     "language": "python",
     "outputs": [
      {
       "output_type": "pyout",
       "prompt_number": 39,
       "text": [
        "'ississipp'"
       ]
      }
     ],
     "prompt_number": 39
    },
    {
     "cell_type": "heading",
     "level": 4,
     "source": [
      "Exercise 10.3 Write a function called is_sorted that takes a list as a parameter and returns True",
      "if the list is sorted in ascending order and False otherwise. You can assume (as a precondition) that",
      "the elements of the list can be compared with the relational operators <, >, etc."
     ]
    },
    {
     "cell_type": "code",
     "collapsed": false,
     "input": [
      "def is_sorted(l):",
      "    l2 = sorted(l)",
      "    if l == l2:",
      "        return 'True'",
      "    else:",
      "        return 'False'",
      "   ",
      "print is_sorted([1,2,2,3])",
      "print is_sorted([2,1,2,3])"
     ],
     "language": "python",
     "outputs": [
      {
       "output_type": "stream",
       "stream": "stdout",
       "text": [
        "True",
        "False"
       ]
      }
     ],
     "prompt_number": 40
    },
    {
     "cell_type": "heading",
     "level": 4,
     "source": [
      "Exercise 10.4 Two words are anagrams if you can rearrange the letters from one to spell the other.",
      "Write a function called is_anagram that takes two strings and returns True if they are anagrams."
     ]
    },
    {
     "cell_type": "code",
     "collapsed": false,
     "input": [
      "def is_anagram(word1,word2):",
      "    if len(word1) != len(word2):",
      "        return 'False'",
      "    else:",
      "        w1b = sorted(word1)",
      "        w2b = sorted(word2)",
      "        if w1b == w2b:",
      "            return 'True'",
      "        else:",
      "            return 'False'",
      "        ",
      "",
      "print is_anagram('torchwood','doctorwho')",
      "print is_anagram('stargate','doctorwho')"
     ],
     "language": "python",
     "outputs": [
      {
       "output_type": "stream",
       "stream": "stdout",
       "text": [
        "True",
        "False"
       ]
      }
     ],
     "prompt_number": 45
    },
    {
     "cell_type": "code",
     "collapsed": false,
     "input": [],
     "language": "python",
     "outputs": [],
     "prompt_number": 45
    },
    {
     "cell_type": "code",
     "collapsed": true,
     "input": [],
     "language": "python",
     "outputs": []
    }
   ]
  }
 ]
}