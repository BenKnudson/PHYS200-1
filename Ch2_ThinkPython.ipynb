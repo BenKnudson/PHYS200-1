{
 "metadata": {
  "name": "Ch2_ThinkPython"
 },
 "nbformat": 3,
 "worksheets": [
  {
   "cells": [
    {
     "cell_type": "code",
     "collapsed": false,
     "input": [
      "#Ex2.1)",
      "print 02132",
      "print 0001",
      "print 0002",
      "print 0005",
      "print 0007",
      "print 0010",
      "print 0017",
      "print 0020 #Python apparently defaults to oct... for some reason... :/"
     ],
     "language": "python",
     "outputs": [
      {
       "output_type": "stream",
       "stream": "stdout",
       "text": [
        "1114",
        "1",
        "2",
        "5",
        "7",
        "8",
        "15",
        "16"
       ]
      }
     ],
     "prompt_number": 42
    },
    {
     "cell_type": "code",
     "collapsed": false,
     "input": [
      "#Ex2.2)",
      "print 5",
      "x=5",
      "print x",
      "print x+1 #it would seem that without the 'print', it just tells you the last thing it did, not all of it... which is really nice."
     ],
     "language": "python",
     "outputs": [
      {
       "output_type": "stream",
       "stream": "stdout",
       "text": [
        "5",
        "5",
        "6"
       ]
      }
     ],
     "prompt_number": 48
    },
    {
     "cell_type": "code",
     "collapsed": false,
     "input": [
      "#Ex2.3)",
      "width =17",
      "height =12.0",
      "delimiter='.'",
      "#guesses:",
      "#1)width/2 = floor(17/2) = 8",
      "#2)width/2.0 = 17/2 = 8.5",
      "#3)height/3 = 12.0/3 = 4",
      "#4)1+2*5 = 1 +(2*5) = 11",
      "#5)delimiter*5 = 5 periods = .....",
      "",
      "print width/2",
      "print width/2.0",
      "print height/3",
      "print 1+2*5",
      "print delimiter*5"
     ],
     "language": "python",
     "outputs": [
      {
       "output_type": "stream",
       "stream": "stdout",
       "text": [
        "8",
        "8.5",
        "4.0",
        "11",
        "....."
       ]
      }
     ],
     "prompt_number": 50
    },
    {
     "cell_type": "code",
     "collapsed": false,
     "input": [
      "#Ex2.4)",
      "#1",
      "(4./3)*pi*5**2 ",
      "#2",
      "print \"$\",24.95*60*0.6 +3+0.75*59",
      "#3",
      "t1 = 6*3600 +52*60 #s",
      "r1 = 8*60+15 #spm",
      "r2 = 7*60+12 #spm",
      "t2 = t1+ 2*r1 +3*r2 #s",
      "h = t2/3600",
      "m = (t2 - h*3600)/60",
      "s = (t2 - h*3600 - m*60)",
      "print \"return home at \", h,\":\",m,\" and\", s,\" seconds\"",
      "",
      "#My kernel kept dying at this point... but since it's only calculator stuff, ",
      "#I'm not planning to stress that I couldn't evaluate it... especially since ",
      "#I wouldn't know what to do about it anyway..."
     ],
     "language": "python",
     "outputs": [],
     "prompt_number": "*"
    },
    {
     "cell_type": "code",
     "collapsed": true,
     "input": [],
     "language": "python",
     "outputs": []
    }
   ]
  }
 ]
}